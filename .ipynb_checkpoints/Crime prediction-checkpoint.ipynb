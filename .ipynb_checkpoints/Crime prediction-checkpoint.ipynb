{
 "cells": [
  {
   "cell_type": "markdown",
   "metadata": {},
   "source": [
    "<b>Objetivos<b>"
   ]
  },
  {
   "cell_type": "markdown",
   "metadata": {},
   "source": [
    "Proponer una solución para distribuir 10,000 policías a pie y 1000 patrullas"
   ]
  },
  {
   "cell_type": "markdown",
   "metadata": {},
   "source": [
    "Encontrar la colonia con la mayor probabilidad de, en el año 2025, ser la más peligrosa por delitos graves"
   ]
  },
  {
   "cell_type": "markdown",
   "metadata": {},
   "source": [
    "Proponer un mecanismo para evaluar la estrategia de distribución de los policías a pie y patrullas"
   ]
  },
  {
   "cell_type": "markdown",
   "metadata": {},
   "source": [
    "Recomendar una colonia para instalar una sucursal de una empresa, basándose en los datos"
   ]
  },
  {
   "cell_type": "markdown",
   "metadata": {},
   "source": [
    "<b>Planteamiento de la solución<b>"
   ]
  },
  {
   "cell_type": "markdown",
   "metadata": {},
   "source": [
    "Preparación de datos\n",
    "    #Limpieza\n",
    "        #Información extraviada\n",
    "        #Homologar formato\n",
    "        #Eliminar ruido -> valores alejados\n",
    "    #Separación\n",
    "        #Conjuntos de entrenamiento, evaluación, prueba (si acaso aplica)\n",
    "    #Extracción de características\n",
    "        #Seleccionar características que influyen en el resultado"
   ]
  },
  {
   "cell_type": "markdown",
   "metadata": {},
   "source": [
    "Elección del modelo\n",
    "    #Serie de tiempo ¿AR, ARMA, ARIMA, SARIMA? Elegir de acuerdo con la forma de los datos\n",
    "    #Agrupamiento por k-means. A partir de qué característica se agruparán."
   ]
  },
  {
   "cell_type": "markdown",
   "metadata": {},
   "source": [
    "Entrenamiento y evaluación del modelo\n",
    "    #Seleccionar parámetros iniciales (p, q, d, etc). Justificar esta selección.\n",
    "    #Seleccionar número de clusters. Justificar esta selección.\n",
    "    #Evaluar el modelo (score, accuracy, etc)."
   ]
  },
  {
   "cell_type": "markdown",
   "metadata": {},
   "source": [
    "<b>Resultados<b>"
   ]
  },
  {
   "cell_type": "markdown",
   "metadata": {},
   "source": [
    "Observaciones\n",
    "    #Tendencia secular\n",
    "    #Variación estacional\n",
    "    #Variación cíclica\n",
    "    #Variación irregular\n",
    "    #¿Se detectó algún patrón?"
   ]
  },
  {
   "cell_type": "markdown",
   "metadata": {},
   "source": [
    "Inferencia\n",
    "    #predecir para responder a los objetivos"
   ]
  }
 ],
 "metadata": {
  "kernelspec": {
   "display_name": "Python 3",
   "language": "python",
   "name": "python3"
  },
  "language_info": {
   "codemirror_mode": {
    "name": "ipython",
    "version": 3
   },
   "file_extension": ".py",
   "mimetype": "text/x-python",
   "name": "python",
   "nbconvert_exporter": "python",
   "pygments_lexer": "ipython3",
   "version": "3.6.2"
  }
 },
 "nbformat": 4,
 "nbformat_minor": 2
}
