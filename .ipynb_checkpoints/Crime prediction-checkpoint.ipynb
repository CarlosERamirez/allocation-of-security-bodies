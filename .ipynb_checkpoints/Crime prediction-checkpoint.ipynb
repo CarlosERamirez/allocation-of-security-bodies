{
 "cells": [
  {
   "cell_type": "markdown",
   "metadata": {},
   "source": [
    "<b>Objetivos<b>"
   ]
  },
  {
   "cell_type": "markdown",
   "metadata": {},
   "source": [
    "Proponer una solución para distribuir 10,000 policías a pie y 1000 patrullas"
   ]
  },
  {
   "cell_type": "markdown",
   "metadata": {},
   "source": [
    "Encontrar la colonia con la mayor probabilidad de, en el año 2025, ser la más peligrosa por delitos graves"
   ]
  },
  {
   "cell_type": "markdown",
   "metadata": {},
   "source": [
    "Proponer un mecanismo para evaluar la estrategia de distribución de los policías a pie y patrullas"
   ]
  },
  {
   "cell_type": "markdown",
   "metadata": {},
   "source": [
    "Recomendar una colonia para instalar una sucursal de una empresa, basándose en los datos"
   ]
  },
  {
   "cell_type": "markdown",
   "metadata": {},
   "source": [
    "<b>Planteamiento de la solución<b>"
   ]
  },
  {
   "cell_type": "markdown",
   "metadata": {},
   "source": [
    "Preparación de datos\n",
    "    #Limpieza\n",
    "        #Información extraviada\n",
    "        #Homologar formato\n",
    "        #Eliminar ruido -> valores alejados\n",
    "    #Separación\n",
    "        #Conjuntos de entrenamiento, evaluación, prueba (si acaso aplica)\n",
    "    #Extracción de características\n",
    "        #Seleccionar características que influyen en el resultado"
   ]
  },
  {
   "cell_type": "code",
   "execution_count": 1,
   "metadata": {
    "collapsed": true
   },
   "outputs": [],
   "source": [
    "import pandas as pd\n",
    "datos = pd.read_csv(\"../BDML_Recursos/carpetas-de-investigacion-pgj-cdmx.csv\", nrows = 70000000,sep=';')"
   ]
  },
  {
   "cell_type": "code",
   "execution_count": 2,
   "metadata": {},
   "outputs": [
    {
     "data": {
      "text/plain": [
       "pandas.core.frame.DataFrame"
      ]
     },
     "execution_count": 2,
     "metadata": {},
     "output_type": "execute_result"
    }
   ],
   "source": [
    "type(datos)\n",
    "#Es un DATAFRAME de Pandas"
   ]
  },
  {
   "cell_type": "code",
   "execution_count": 3,
   "metadata": {},
   "outputs": [
    {
     "name": "stdout",
     "output_type": "stream",
     "text": [
      "<class 'pandas.core.frame.DataFrame'>\n",
      "RangeIndex: 702922 entries, 0 to 702921\n",
      "Data columns (total 16 columns):\n",
      "Año                        702922 non-null int64\n",
      "Mes                        702922 non-null object\n",
      "Alcaldía                   701905 non-null object\n",
      "Categoría de delito        702922 non-null object\n",
      "Delito                     702922 non-null object\n",
      "Agencia                    702922 non-null object\n",
      "Unidad de investigación    702922 non-null object\n",
      "Fecha inicio               702922 non-null object\n",
      "Fiscalía                   702922 non-null object\n",
      "Calle1                     700759 non-null object\n",
      "Calle2                     289451 non-null object\n",
      "Colonia                    674774 non-null object\n",
      "Latitud                    675530 non-null float64\n",
      "Longitud                   675530 non-null float64\n",
      "Mes y año                  702922 non-null object\n",
      "Geopoint                   675530 non-null object\n",
      "dtypes: float64(2), int64(1), object(13)\n",
      "memory usage: 85.8+ MB\n"
     ]
    }
   ],
   "source": [
    "datos.info()"
   ]
  },
  {
   "cell_type": "code",
   "execution_count": 4,
   "metadata": {},
   "outputs": [
    {
     "data": {
      "text/html": [
       "<div>\n",
       "<style>\n",
       "    .dataframe thead tr:only-child th {\n",
       "        text-align: right;\n",
       "    }\n",
       "\n",
       "    .dataframe thead th {\n",
       "        text-align: left;\n",
       "    }\n",
       "\n",
       "    .dataframe tbody tr th {\n",
       "        vertical-align: top;\n",
       "    }\n",
       "</style>\n",
       "<table border=\"1\" class=\"dataframe\">\n",
       "  <thead>\n",
       "    <tr style=\"text-align: right;\">\n",
       "      <th></th>\n",
       "      <th>Año</th>\n",
       "      <th>Mes</th>\n",
       "      <th>Alcaldía</th>\n",
       "      <th>Categoría de delito</th>\n",
       "      <th>Delito</th>\n",
       "      <th>Agencia</th>\n",
       "      <th>Unidad de investigación</th>\n",
       "      <th>Fecha inicio</th>\n",
       "      <th>Fiscalía</th>\n",
       "      <th>Calle1</th>\n",
       "      <th>Calle2</th>\n",
       "      <th>Colonia</th>\n",
       "      <th>Latitud</th>\n",
       "      <th>Longitud</th>\n",
       "      <th>Mes y año</th>\n",
       "      <th>Geopoint</th>\n",
       "    </tr>\n",
       "  </thead>\n",
       "  <tbody>\n",
       "    <tr>\n",
       "      <th>0</th>\n",
       "      <td>2016</td>\n",
       "      <td>Mayo</td>\n",
       "      <td>CUAUHTEMOC</td>\n",
       "      <td>HECHO NO DELICTIVO</td>\n",
       "      <td>DENUNCIA DE HECHOS</td>\n",
       "      <td>FDS-6</td>\n",
       "      <td>T3</td>\n",
       "      <td>2016-05-01 00:55:30</td>\n",
       "      <td>INVESTIGACIÓN PARA LA ATENCIÓN DE DELITOS SEXU...</td>\n",
       "      <td>CASA HABITACION</td>\n",
       "      <td>VERTIZ 1329 DEPTO 7</td>\n",
       "      <td>DOCTORES</td>\n",
       "      <td>19.419659</td>\n",
       "      <td>-99.147374</td>\n",
       "      <td>2016-05</td>\n",
       "      <td>19.4196589998, -99.147374</td>\n",
       "    </tr>\n",
       "    <tr>\n",
       "      <th>1</th>\n",
       "      <td>2016</td>\n",
       "      <td>Mayo</td>\n",
       "      <td>ALVARO OBREGON</td>\n",
       "      <td>ROBO DE VEHÍCULO CON Y SIN VIOLENCIA</td>\n",
       "      <td>ROBO DE VEHICULO DE SERVICIO PARTICULAR SIN VI...</td>\n",
       "      <td>AO-4</td>\n",
       "      <td>T3</td>\n",
       "      <td>2016-05-01 01:26:31</td>\n",
       "      <td>INVESTIGACIÓN EN ÁLVARO OBREGÓN</td>\n",
       "      <td>5 DE MAYO (DATOS REPORTE 74)</td>\n",
       "      <td>GUADALUPE HIDALGO (DATOS REPORTE 74)</td>\n",
       "      <td>MERCED GÓMEZ</td>\n",
       "      <td>19.365347</td>\n",
       "      <td>-99.204310</td>\n",
       "      <td>2016-05</td>\n",
       "      <td>19.3653469998, -99.20431</td>\n",
       "    </tr>\n",
       "    <tr>\n",
       "      <th>2</th>\n",
       "      <td>2016</td>\n",
       "      <td>Mayo</td>\n",
       "      <td>ALVARO OBREGON</td>\n",
       "      <td>DELITO DE BAJO IMPACTO</td>\n",
       "      <td>LESIONES CULPOSAS POR TRANSITO VEHICULAR EN CO...</td>\n",
       "      <td>AO-3</td>\n",
       "      <td>UI-3CD</td>\n",
       "      <td>2016-05-01 01:44:36</td>\n",
       "      <td>INVESTIGACIÓN EN ÁLVARO OBREGÓN</td>\n",
       "      <td>PROLONGACION ROSA BLANCA Y CALLE CENTRAL</td>\n",
       "      <td>NaN</td>\n",
       "      <td>ALFONSO XIII</td>\n",
       "      <td>19.375611</td>\n",
       "      <td>-99.199248</td>\n",
       "      <td>2016-05</td>\n",
       "      <td>19.3756109998, -99.199248</td>\n",
       "    </tr>\n",
       "  </tbody>\n",
       "</table>\n",
       "</div>"
      ],
      "text/plain": [
       "    Año   Mes        Alcaldía                   Categoría de delito  \\\n",
       "0  2016  Mayo      CUAUHTEMOC                    HECHO NO DELICTIVO   \n",
       "1  2016  Mayo  ALVARO OBREGON  ROBO DE VEHÍCULO CON Y SIN VIOLENCIA   \n",
       "2  2016  Mayo  ALVARO OBREGON                DELITO DE BAJO IMPACTO   \n",
       "\n",
       "                                              Delito Agencia  \\\n",
       "0                                 DENUNCIA DE HECHOS   FDS-6   \n",
       "1  ROBO DE VEHICULO DE SERVICIO PARTICULAR SIN VI...    AO-4   \n",
       "2  LESIONES CULPOSAS POR TRANSITO VEHICULAR EN CO...    AO-3   \n",
       "\n",
       "  Unidad de investigación         Fecha inicio  \\\n",
       "0                      T3  2016-05-01 00:55:30   \n",
       "1                      T3  2016-05-01 01:26:31   \n",
       "2                  UI-3CD  2016-05-01 01:44:36   \n",
       "\n",
       "                                            Fiscalía  \\\n",
       "0  INVESTIGACIÓN PARA LA ATENCIÓN DE DELITOS SEXU...   \n",
       "1                    INVESTIGACIÓN EN ÁLVARO OBREGÓN   \n",
       "2                    INVESTIGACIÓN EN ÁLVARO OBREGÓN   \n",
       "\n",
       "                                     Calle1  \\\n",
       "0                           CASA HABITACION   \n",
       "1              5 DE MAYO (DATOS REPORTE 74)   \n",
       "2  PROLONGACION ROSA BLANCA Y CALLE CENTRAL   \n",
       "\n",
       "                                 Calle2       Colonia    Latitud   Longitud  \\\n",
       "0                   VERTIZ 1329 DEPTO 7      DOCTORES  19.419659 -99.147374   \n",
       "1  GUADALUPE HIDALGO (DATOS REPORTE 74)  MERCED GÓMEZ  19.365347 -99.204310   \n",
       "2                                   NaN  ALFONSO XIII  19.375611 -99.199248   \n",
       "\n",
       "  Mes y año                   Geopoint  \n",
       "0   2016-05  19.4196589998, -99.147374  \n",
       "1   2016-05   19.3653469998, -99.20431  \n",
       "2   2016-05  19.3756109998, -99.199248  "
      ]
     },
     "execution_count": 4,
     "metadata": {},
     "output_type": "execute_result"
    }
   ],
   "source": [
    "datos.head(3)"
   ]
  },
  {
   "cell_type": "code",
   "execution_count": 5,
   "metadata": {},
   "outputs": [
    {
     "data": {
      "text/plain": [
       "2018-10    24009\n",
       "2018-08    22343\n",
       "2018-05    22031\n",
       "2018-07    21845\n",
       "2018-11    21711\n",
       "2018-09    21593\n",
       "01/2019    21373\n",
       "2017-10    21095\n",
       "2018-03    20964\n",
       "2018-04    20878\n",
       "2018-06    20776\n",
       "2018-12    20698\n",
       "2017-08    20688\n",
       "2017-11    19965\n",
       "2017-05    19942\n",
       "2017-06    19876\n",
       "2018-01    19454\n",
       "2017-07    19450\n",
       "2017-12    19109\n",
       "2018-02    19011\n",
       "2017-09    18695\n",
       "2017-03    18522\n",
       "2016-10    17901\n",
       "2017-01    17449\n",
       "2017-04    17228\n",
       "2016-09    17138\n",
       "2016-11    17003\n",
       "2016-04    16992\n",
       "2016-08    16924\n",
       "2016-05    16857\n",
       "2016-12    16531\n",
       "2017-02    16304\n",
       "2016-03    16270\n",
       "2016-06    16230\n",
       "2016-07    15774\n",
       "2016-02    15515\n",
       "2016-01    14778\n",
       "Name: Mes y año, dtype: int64"
      ]
     },
     "execution_count": 5,
     "metadata": {},
     "output_type": "execute_result"
    }
   ],
   "source": [
    "#encontrar los diferentes formatos de fecha\n",
    "datos[\"Mes y año\"].value_counts()"
   ]
  },
  {
   "cell_type": "markdown",
   "metadata": {},
   "source": [
    "Homologar formato de fecha y reordenar los datos"
   ]
  },
  {
   "cell_type": "code",
   "execution_count": 6,
   "metadata": {},
   "outputs": [],
   "source": [
    "#Del dataframe, conservar sólo los datos cuya alcaldía está en la CDMX\n",
    "#ver todas las alcaldias\n",
    "#datos[\"Alcaldía\"].value_counts()\n",
    "#Seleccionar alcaldías de la CDMX\n",
    "alcaldias = [\n",
    "    \"ALVARO OBREGON\",\n",
    "    \"AZCAPOTZALCO\",\n",
    "    \"BENITO JUAREZ\",\n",
    "    \"CUAUHTEMOC\",\n",
    "    \"COYOACAN\",\n",
    "    \"CUAJIMALPA\", \"CUAJIMALPA DE MORELOS\",\n",
    "    \"GUSTAVO A MADERO\",\n",
    "    \"IZTACALCO\",\n",
    "    \"IZTAPALAPA\",\n",
    "    \"MAGDALENA CONTRERAS\", \"LA MAGDALENA CONTRERAS\",\n",
    "    \"MIGUEL HIDALGO\",\n",
    "    \"MILPA ALTA\",\n",
    "    \"TLAHUAC\",\n",
    "    \"TLALPAN\",\n",
    "    \"VENUSTIANO CARRANZA\",\n",
    "    \"XOCHIMILCO\"\n",
    "]\n",
    "\n",
    "datosAlvaro = datos[datos[\"Alcaldía\"] == alcaldias[0]]\n",
    "datosAzcapotzalco = datos[datos[\"Alcaldía\"] == alcaldias[1]]\n",
    "datosBenito = datos[datos[\"Alcaldía\"] == alcaldias[2]]\n",
    "datosCuau = datos[datos[\"Alcaldía\"] == alcaldias[3]]\n",
    "datosCoyo = datos[datos[\"Alcaldía\"] == alcaldias[4]]\n",
    "datosCuaji = datos[(datos[\"Alcaldía\"] == alcaldias[5]) | (datos[\"Alcaldía\"] == alcaldias[6])]\n",
    "datosGustavo = datos[datos[\"Alcaldía\"] == alcaldias[7]]\n",
    "datosIztacalco = datos[datos[\"Alcaldía\"] == alcaldias[8]]\n",
    "datosIztapalapa = datos[datos[\"Alcaldía\"] == alcaldias[9]]\n",
    "datosMagdalena = datos[(datos[\"Alcaldía\"] == alcaldias[10]) | (datos[\"Alcaldía\"] == alcaldias[11])]\n",
    "datosMiguel = datos[datos[\"Alcaldía\"] == alcaldias[12]]\n",
    "datosMilpa = datos[datos[\"Alcaldía\"] == alcaldias[13]]\n",
    "datosTlahuac = datos[datos[\"Alcaldía\"] == alcaldias[14]]\n",
    "datosTlalpan = datos[datos[\"Alcaldía\"] == alcaldias[15]]\n",
    "datosVenustiano = datos[datos[\"Alcaldía\"] == alcaldias[16]]\n",
    "datosXochi = datos[datos[\"Alcaldía\"] == alcaldias[17]]"
   ]
  },
  {
   "cell_type": "code",
   "execution_count": 7,
   "metadata": {},
   "outputs": [
    {
     "data": {
      "text/plain": [
       "'\\ndatosAlvaro.count()#------------44 906\\ndatosAzcapotzalco.count()#------34 879\\ndatosBenito.count()#------------61 590\\ndatosCuau.count()#-------------114 987\\ndatosCoyo.count()#--------------47 645\\ndatosCuaji.count()#--------------9 753\\ndatosGustavo.count()#-----------69 446\\ndatosIztacalco.count()#---------29 869\\ndatosIztapalapa.count()#-------103 507\\ndatosMagdalena.count()#---------10 337\\ndatosMiguel.count()#------------46 686\\ndatosMilpa.count()#--------------4 469\\ndatosTlahuac.count()#-----------15 664\\ndatosTlalpan.count()#-----------40 187\\ndatosVenustiano.count()#--------40 059\\ndatosXochi.count()#-------------21 397\\n'"
      ]
     },
     "execution_count": 7,
     "metadata": {},
     "output_type": "execute_result"
    }
   ],
   "source": [
    "'''\n",
    "datosAlvaro.count()#------------44 906\n",
    "datosAzcapotzalco.count()#------34 879\n",
    "datosBenito.count()#------------61 590\n",
    "datosCuau.count()#-------------114 987\n",
    "datosCoyo.count()#--------------47 645\n",
    "datosCuaji.count()#--------------9 753\n",
    "datosGustavo.count()#-----------69 446\n",
    "datosIztacalco.count()#---------29 869\n",
    "datosIztapalapa.count()#-------103 507\n",
    "datosMagdalena.count()#---------10 337\n",
    "datosMiguel.count()#------------46 686\n",
    "datosMilpa.count()#--------------4 469\n",
    "datosTlahuac.count()#-----------15 664\n",
    "datosTlalpan.count()#-----------40 187\n",
    "datosVenustiano.count()#--------40 059\n",
    "datosXochi.count()#-------------21 397\n",
    "'''"
   ]
  },
  {
   "cell_type": "code",
   "execution_count": 7,
   "metadata": {},
   "outputs": [
    {
     "data": {
      "text/html": [
       "<div>\n",
       "<style>\n",
       "    .dataframe thead tr:only-child th {\n",
       "        text-align: right;\n",
       "    }\n",
       "\n",
       "    .dataframe thead th {\n",
       "        text-align: left;\n",
       "    }\n",
       "\n",
       "    .dataframe tbody tr th {\n",
       "        vertical-align: top;\n",
       "    }\n",
       "</style>\n",
       "<table border=\"1\" class=\"dataframe\">\n",
       "  <thead>\n",
       "    <tr style=\"text-align: right;\">\n",
       "      <th></th>\n",
       "      <th>Año</th>\n",
       "      <th>Mes</th>\n",
       "      <th>Alcaldía</th>\n",
       "      <th>Categoría de delito</th>\n",
       "      <th>Delito</th>\n",
       "      <th>Agencia</th>\n",
       "      <th>Unidad de investigación</th>\n",
       "      <th>Fecha inicio</th>\n",
       "      <th>Fiscalía</th>\n",
       "      <th>Calle1</th>\n",
       "      <th>Calle2</th>\n",
       "      <th>Colonia</th>\n",
       "      <th>Latitud</th>\n",
       "      <th>Longitud</th>\n",
       "      <th>Mes y año</th>\n",
       "      <th>Geopoint</th>\n",
       "    </tr>\n",
       "  </thead>\n",
       "  <tbody>\n",
       "    <tr>\n",
       "      <th>0</th>\n",
       "      <td>2016</td>\n",
       "      <td>Mayo</td>\n",
       "      <td>CUAUHTEMOC</td>\n",
       "      <td>HECHO NO DELICTIVO</td>\n",
       "      <td>DENUNCIA DE HECHOS</td>\n",
       "      <td>FDS-6</td>\n",
       "      <td>T3</td>\n",
       "      <td>2016-05-01 00:55:30</td>\n",
       "      <td>INVESTIGACIÓN PARA LA ATENCIÓN DE DELITOS SEXU...</td>\n",
       "      <td>CASA HABITACION</td>\n",
       "      <td>VERTIZ 1329 DEPTO 7</td>\n",
       "      <td>DOCTORES</td>\n",
       "      <td>19.419659</td>\n",
       "      <td>-99.147374</td>\n",
       "      <td>2016-05</td>\n",
       "      <td>19.4196589998, -99.147374</td>\n",
       "    </tr>\n",
       "    <tr>\n",
       "      <th>4</th>\n",
       "      <td>2016</td>\n",
       "      <td>Mayo</td>\n",
       "      <td>CUAUHTEMOC</td>\n",
       "      <td>DELITO DE BAJO IMPACTO</td>\n",
       "      <td>DISPAROS DE ARMA DE FUEGO</td>\n",
       "      <td>CUH-2</td>\n",
       "      <td>UI-3CD</td>\n",
       "      <td>2016-05-01 01:57:32</td>\n",
       "      <td>INVESTIGACIÓN EN CUAUHTEMOC</td>\n",
       "      <td>FRANCISCO PIMENTEL</td>\n",
       "      <td>NaN</td>\n",
       "      <td>SAN RAFAEL</td>\n",
       "      <td>19.439540</td>\n",
       "      <td>-99.166165</td>\n",
       "      <td>2016-05</td>\n",
       "      <td>19.4395399998, -99.166165</td>\n",
       "    </tr>\n",
       "    <tr>\n",
       "      <th>11</th>\n",
       "      <td>2016</td>\n",
       "      <td>Mayo</td>\n",
       "      <td>CUAUHTEMOC</td>\n",
       "      <td>ROBO A TRANSEUNTE EN VÍA PÚBLICA CON Y SIN VIO...</td>\n",
       "      <td>ROBO A TRANSEUNTE EN VIA PUBLICA CON VIOLENCIA</td>\n",
       "      <td>57</td>\n",
       "      <td>T3</td>\n",
       "      <td>2016-05-01 07:06:28</td>\n",
       "      <td>INVESTIGACIÓN PARA LA ATENCIÓN DE NIÑOS, NIÑAS...</td>\n",
       "      <td>AVENIDA DE INSURGENTES</td>\n",
       "      <td>EDISON</td>\n",
       "      <td>SAN RAFAEL</td>\n",
       "      <td>19.438187</td>\n",
       "      <td>-99.156537</td>\n",
       "      <td>2016-05</td>\n",
       "      <td>19.4381869998, -99.156537</td>\n",
       "    </tr>\n",
       "    <tr>\n",
       "      <th>43</th>\n",
       "      <td>2016</td>\n",
       "      <td>Mayo</td>\n",
       "      <td>CUAUHTEMOC</td>\n",
       "      <td>DELITO DE BAJO IMPACTO</td>\n",
       "      <td>DAÑO EN PROPIEDAD AJENA INTENCIONAL</td>\n",
       "      <td>CUH-2</td>\n",
       "      <td>UI-1CD</td>\n",
       "      <td>2016-05-01 15:44:43</td>\n",
       "      <td>INVESTIGACIÓN EN CUAUHTEMOC</td>\n",
       "      <td>AV. DE LOS INSURGENTES SUR</td>\n",
       "      <td>NaN</td>\n",
       "      <td>ROMA NORTE</td>\n",
       "      <td>19.422434</td>\n",
       "      <td>-99.163392</td>\n",
       "      <td>2016-05</td>\n",
       "      <td>19.4224339998, -99.163392</td>\n",
       "    </tr>\n",
       "    <tr>\n",
       "      <th>52</th>\n",
       "      <td>2016</td>\n",
       "      <td>Mayo</td>\n",
       "      <td>CUAUHTEMOC</td>\n",
       "      <td>HECHO NO DELICTIVO</td>\n",
       "      <td>DENUNCIA DE HECHOS</td>\n",
       "      <td>CUH-1</td>\n",
       "      <td>T1</td>\n",
       "      <td>2016-05-01 18:34:11</td>\n",
       "      <td>INVESTIGACIÓN EN CUAUHTEMOC</td>\n",
       "      <td>JUVENTINO ROSAS</td>\n",
       "      <td>NaN</td>\n",
       "      <td>PERALVILLO</td>\n",
       "      <td>19.459145</td>\n",
       "      <td>-99.134084</td>\n",
       "      <td>2016-05</td>\n",
       "      <td>19.4591449998, -99.134084</td>\n",
       "    </tr>\n",
       "  </tbody>\n",
       "</table>\n",
       "</div>"
      ],
      "text/plain": [
       "     Año   Mes    Alcaldía                                Categoría de delito  \\\n",
       "0   2016  Mayo  CUAUHTEMOC                                 HECHO NO DELICTIVO   \n",
       "4   2016  Mayo  CUAUHTEMOC                             DELITO DE BAJO IMPACTO   \n",
       "11  2016  Mayo  CUAUHTEMOC  ROBO A TRANSEUNTE EN VÍA PÚBLICA CON Y SIN VIO...   \n",
       "43  2016  Mayo  CUAUHTEMOC                             DELITO DE BAJO IMPACTO   \n",
       "52  2016  Mayo  CUAUHTEMOC                                 HECHO NO DELICTIVO   \n",
       "\n",
       "                                            Delito Agencia  \\\n",
       "0                               DENUNCIA DE HECHOS   FDS-6   \n",
       "4                        DISPAROS DE ARMA DE FUEGO   CUH-2   \n",
       "11  ROBO A TRANSEUNTE EN VIA PUBLICA CON VIOLENCIA      57   \n",
       "43             DAÑO EN PROPIEDAD AJENA INTENCIONAL   CUH-2   \n",
       "52                              DENUNCIA DE HECHOS   CUH-1   \n",
       "\n",
       "   Unidad de investigación         Fecha inicio  \\\n",
       "0                       T3  2016-05-01 00:55:30   \n",
       "4                   UI-3CD  2016-05-01 01:57:32   \n",
       "11                      T3  2016-05-01 07:06:28   \n",
       "43                  UI-1CD  2016-05-01 15:44:43   \n",
       "52                      T1  2016-05-01 18:34:11   \n",
       "\n",
       "                                             Fiscalía  \\\n",
       "0   INVESTIGACIÓN PARA LA ATENCIÓN DE DELITOS SEXU...   \n",
       "4                         INVESTIGACIÓN EN CUAUHTEMOC   \n",
       "11  INVESTIGACIÓN PARA LA ATENCIÓN DE NIÑOS, NIÑAS...   \n",
       "43                        INVESTIGACIÓN EN CUAUHTEMOC   \n",
       "52                        INVESTIGACIÓN EN CUAUHTEMOC   \n",
       "\n",
       "                        Calle1               Calle2     Colonia    Latitud  \\\n",
       "0              CASA HABITACION  VERTIZ 1329 DEPTO 7    DOCTORES  19.419659   \n",
       "4           FRANCISCO PIMENTEL                  NaN  SAN RAFAEL  19.439540   \n",
       "11      AVENIDA DE INSURGENTES               EDISON  SAN RAFAEL  19.438187   \n",
       "43  AV. DE LOS INSURGENTES SUR                  NaN  ROMA NORTE  19.422434   \n",
       "52             JUVENTINO ROSAS                  NaN  PERALVILLO  19.459145   \n",
       "\n",
       "     Longitud Mes y año                   Geopoint  \n",
       "0  -99.147374   2016-05  19.4196589998, -99.147374  \n",
       "4  -99.166165   2016-05  19.4395399998, -99.166165  \n",
       "11 -99.156537   2016-05  19.4381869998, -99.156537  \n",
       "43 -99.163392   2016-05  19.4224339998, -99.163392  \n",
       "52 -99.134084   2016-05  19.4591449998, -99.134084  "
      ]
     },
     "execution_count": 7,
     "metadata": {},
     "output_type": "execute_result"
    }
   ],
   "source": [
    "#Delegación con mayor incidencia de delitos\n",
    "datosCuau.head(5)"
   ]
  },
  {
   "cell_type": "code",
   "execution_count": 8,
   "metadata": {},
   "outputs": [
    {
     "data": {
      "text/plain": [
       "2018-10    4010\n",
       "2018-07    3608\n",
       "2018-08    3593\n",
       "2018-05    3552\n",
       "2017-08    3503\n",
       "2018-09    3489\n",
       "2018-11    3470\n",
       "2018-06    3425\n",
       "2017-07    3420\n",
       "2017-10    3408\n",
       "2018-04    3371\n",
       "2017-06    3327\n",
       "2018-03    3284\n",
       "2018-12    3275\n",
       "01/2019    3264\n",
       "2017-12    3195\n",
       "2018-01    3176\n",
       "2017-05    3175\n",
       "2017-11    3166\n",
       "2016-10    3094\n",
       "2018-02    3021\n",
       "2017-09    2993\n",
       "2017-03    2867\n",
       "2016-08    2864\n",
       "2016-09    2861\n",
       "2016-06    2850\n",
       "2016-11    2843\n",
       "2016-05    2810\n",
       "2017-04    2808\n",
       "2017-01    2799\n",
       "2016-04    2792\n",
       "2016-12    2690\n",
       "2016-03    2681\n",
       "2017-02    2664\n",
       "2016-07    2662\n",
       "2016-02    2536\n",
       "2016-01    2441\n",
       "Name: Mes y año, dtype: int64"
      ]
     },
     "execution_count": 8,
     "metadata": {},
     "output_type": "execute_result"
    }
   ],
   "source": [
    "datosCuau[\"Mes y año\"].value_counts()\n",
    "#01/2019 es un formato distinto"
   ]
  },
  {
   "cell_type": "code",
   "execution_count": 9,
   "metadata": {},
   "outputs": [
    {
     "name": "stderr",
     "output_type": "stream",
     "text": [
      "C:\\Program Files (x86)\\Microsoft Visual Studio\\Shared\\Anaconda3_64\\lib\\site-packages\\pandas\\core\\indexing.py:517: SettingWithCopyWarning: \n",
      "A value is trying to be set on a copy of a slice from a DataFrame.\n",
      "Try using .loc[row_indexer,col_indexer] = value instead\n",
      "\n",
      "See the caveats in the documentation: http://pandas.pydata.org/pandas-docs/stable/indexing.html#indexing-view-versus-copy\n",
      "  self.obj[item] = s\n"
     ]
    }
   ],
   "source": [
    "#Cambiar formato de fecha\n",
    "datosCuau.loc[datosCuau[\"Mes y año\"] == \"01/2019\", 'Mes y año'] = \"2019-01\""
   ]
  },
  {
   "cell_type": "code",
   "execution_count": 36,
   "metadata": {},
   "outputs": [
    {
     "data": {
      "text/plain": [
       "2018-10    4010\n",
       "2018-07    3608\n",
       "2018-08    3593\n",
       "2018-05    3552\n",
       "2017-08    3503\n",
       "2018-09    3489\n",
       "2018-11    3470\n",
       "2018-06    3425\n",
       "2017-07    3420\n",
       "2017-10    3408\n",
       "2018-04    3371\n",
       "2017-06    3327\n",
       "2018-03    3284\n",
       "2018-12    3275\n",
       "2019-01    3264\n",
       "2017-12    3195\n",
       "2018-01    3176\n",
       "2017-05    3175\n",
       "2017-11    3166\n",
       "2016-10    3094\n",
       "2018-02    3021\n",
       "2017-09    2993\n",
       "2017-03    2867\n",
       "2016-08    2864\n",
       "2016-09    2861\n",
       "2016-06    2850\n",
       "2016-11    2843\n",
       "2016-05    2810\n",
       "2017-04    2808\n",
       "2017-01    2799\n",
       "2016-04    2792\n",
       "2016-12    2690\n",
       "2016-03    2681\n",
       "2017-02    2664\n",
       "2016-07    2662\n",
       "2016-02    2536\n",
       "2016-01    2441\n",
       "Name: Mes y año, dtype: int64"
      ]
     },
     "execution_count": 36,
     "metadata": {},
     "output_type": "execute_result"
    }
   ],
   "source": [
    "#dataframe con formato de fecha homologado\n",
    "datosCuau[\"Mes y año\"].dropna().value_counts()\n",
    "#datosCuau.dropna()"
   ]
  },
  {
   "cell_type": "code",
   "execution_count": 73,
   "metadata": {},
   "outputs": [
    {
     "data": {
      "text/html": [
       "<div>\n",
       "<style>\n",
       "    .dataframe thead tr:only-child th {\n",
       "        text-align: right;\n",
       "    }\n",
       "\n",
       "    .dataframe thead th {\n",
       "        text-align: left;\n",
       "    }\n",
       "\n",
       "    .dataframe tbody tr th {\n",
       "        vertical-align: top;\n",
       "    }\n",
       "</style>\n",
       "<table border=\"1\" class=\"dataframe\">\n",
       "  <thead>\n",
       "    <tr style=\"text-align: right;\">\n",
       "      <th></th>\n",
       "      <th>Mes y año</th>\n",
       "      <th>Delito</th>\n",
       "      <th>Geopoint</th>\n",
       "    </tr>\n",
       "  </thead>\n",
       "  <tbody>\n",
       "    <tr>\n",
       "      <th>0</th>\n",
       "      <td>2016-05</td>\n",
       "      <td>DENUNCIA DE HECHOS</td>\n",
       "      <td>19.4196589998, -99.147374</td>\n",
       "    </tr>\n",
       "    <tr>\n",
       "      <th>4</th>\n",
       "      <td>2016-05</td>\n",
       "      <td>DISPAROS DE ARMA DE FUEGO</td>\n",
       "      <td>19.4395399998, -99.166165</td>\n",
       "    </tr>\n",
       "    <tr>\n",
       "      <th>11</th>\n",
       "      <td>2016-05</td>\n",
       "      <td>ROBO A TRANSEUNTE EN VIA PUBLICA CON VIOLENCIA</td>\n",
       "      <td>19.4381869998, -99.156537</td>\n",
       "    </tr>\n",
       "    <tr>\n",
       "      <th>43</th>\n",
       "      <td>2016-05</td>\n",
       "      <td>DAÑO EN PROPIEDAD AJENA INTENCIONAL</td>\n",
       "      <td>19.4224339998, -99.163392</td>\n",
       "    </tr>\n",
       "    <tr>\n",
       "      <th>52</th>\n",
       "      <td>2016-05</td>\n",
       "      <td>DENUNCIA DE HECHOS</td>\n",
       "      <td>19.4591449998, -99.134084</td>\n",
       "    </tr>\n",
       "  </tbody>\n",
       "</table>\n",
       "</div>"
      ],
      "text/plain": [
       "   Mes y año                                          Delito  \\\n",
       "0    2016-05                              DENUNCIA DE HECHOS   \n",
       "4    2016-05                       DISPAROS DE ARMA DE FUEGO   \n",
       "11   2016-05  ROBO A TRANSEUNTE EN VIA PUBLICA CON VIOLENCIA   \n",
       "43   2016-05             DAÑO EN PROPIEDAD AJENA INTENCIONAL   \n",
       "52   2016-05                              DENUNCIA DE HECHOS   \n",
       "\n",
       "                     Geopoint  \n",
       "0   19.4196589998, -99.147374  \n",
       "4   19.4395399998, -99.166165  \n",
       "11  19.4381869998, -99.156537  \n",
       "43  19.4224339998, -99.163392  \n",
       "52  19.4591449998, -99.134084  "
      ]
     },
     "execution_count": 73,
     "metadata": {},
     "output_type": "execute_result"
    }
   ],
   "source": [
    "#import numpy as np\n",
    "import matplotlib.pyplot as plt\n",
    "%matplotlib inline\n",
    "timedf = datosCuau[[\"Mes y año\",\"Delito\",\"Geopoint\"]]\n",
    "#timedf = timedf.set_index([\"Mes y año\",\"Geopoint\"])#por qué necesito otra columna? /Geopoint/\n",
    "timedf.head()\n",
    "#cuenta = timedf.count(level=\"Mes y año\")#cuántos datos /de cualquier columna/ hay por cada valor de \"Mes y año\"\n",
    "#cuenta\n",
    "#timedf\n",
    "#timedf.plot()"
   ]
  },
  {
   "cell_type": "code",
   "execution_count": 74,
   "metadata": {},
   "outputs": [
    {
     "data": {
      "text/html": [
       "<div>\n",
       "<style>\n",
       "    .dataframe thead tr:only-child th {\n",
       "        text-align: right;\n",
       "    }\n",
       "\n",
       "    .dataframe thead th {\n",
       "        text-align: left;\n",
       "    }\n",
       "\n",
       "    .dataframe tbody tr th {\n",
       "        vertical-align: top;\n",
       "    }\n",
       "</style>\n",
       "<table border=\"1\" class=\"dataframe\">\n",
       "  <thead>\n",
       "    <tr style=\"text-align: right;\">\n",
       "      <th></th>\n",
       "      <th></th>\n",
       "      <th>Delito</th>\n",
       "    </tr>\n",
       "    <tr>\n",
       "      <th>Mes y año</th>\n",
       "      <th>Geopoint</th>\n",
       "      <th></th>\n",
       "    </tr>\n",
       "  </thead>\n",
       "  <tbody>\n",
       "    <tr>\n",
       "      <th rowspan=\"5\" valign=\"top\">2016-05</th>\n",
       "      <th>19.4196589998, -99.147374</th>\n",
       "      <td>DENUNCIA DE HECHOS</td>\n",
       "    </tr>\n",
       "    <tr>\n",
       "      <th>19.4395399998, -99.166165</th>\n",
       "      <td>DISPAROS DE ARMA DE FUEGO</td>\n",
       "    </tr>\n",
       "    <tr>\n",
       "      <th>19.4381869998, -99.156537</th>\n",
       "      <td>ROBO A TRANSEUNTE EN VIA PUBLICA CON VIOLENCIA</td>\n",
       "    </tr>\n",
       "    <tr>\n",
       "      <th>19.4224339998, -99.163392</th>\n",
       "      <td>DAÑO EN PROPIEDAD AJENA INTENCIONAL</td>\n",
       "    </tr>\n",
       "    <tr>\n",
       "      <th>19.4591449998, -99.134084</th>\n",
       "      <td>DENUNCIA DE HECHOS</td>\n",
       "    </tr>\n",
       "  </tbody>\n",
       "</table>\n",
       "</div>"
      ],
      "text/plain": [
       "                                                                             Delito\n",
       "Mes y año Geopoint                                                                 \n",
       "2016-05   19.4196589998, -99.147374                              DENUNCIA DE HECHOS\n",
       "          19.4395399998, -99.166165                       DISPAROS DE ARMA DE FUEGO\n",
       "          19.4381869998, -99.156537  ROBO A TRANSEUNTE EN VIA PUBLICA CON VIOLENCIA\n",
       "          19.4224339998, -99.163392             DAÑO EN PROPIEDAD AJENA INTENCIONAL\n",
       "          19.4591449998, -99.134084                              DENUNCIA DE HECHOS"
      ]
     },
     "execution_count": 74,
     "metadata": {},
     "output_type": "execute_result"
    }
   ],
   "source": [
    "#por qué necesito otra columna? /Geopoint, en este caso/\n",
    "#Si la omito, error: Can only count levels on hierarchical index.\n",
    "timedf = timedf.set_index([\"Mes y año\",\"Geopoint\"])\n",
    "timedf.head()"
   ]
  },
  {
   "cell_type": "code",
   "execution_count": 75,
   "metadata": {},
   "outputs": [
    {
     "data": {
      "text/html": [
       "<div>\n",
       "<style>\n",
       "    .dataframe thead tr:only-child th {\n",
       "        text-align: right;\n",
       "    }\n",
       "\n",
       "    .dataframe thead th {\n",
       "        text-align: left;\n",
       "    }\n",
       "\n",
       "    .dataframe tbody tr th {\n",
       "        vertical-align: top;\n",
       "    }\n",
       "</style>\n",
       "<table border=\"1\" class=\"dataframe\">\n",
       "  <thead>\n",
       "    <tr style=\"text-align: right;\">\n",
       "      <th></th>\n",
       "      <th>Delito</th>\n",
       "    </tr>\n",
       "    <tr>\n",
       "      <th>Mes y año</th>\n",
       "      <th></th>\n",
       "    </tr>\n",
       "  </thead>\n",
       "  <tbody>\n",
       "    <tr>\n",
       "      <th>2016-01</th>\n",
       "      <td>2441</td>\n",
       "    </tr>\n",
       "    <tr>\n",
       "      <th>2016-02</th>\n",
       "      <td>2536</td>\n",
       "    </tr>\n",
       "    <tr>\n",
       "      <th>2016-03</th>\n",
       "      <td>2681</td>\n",
       "    </tr>\n",
       "    <tr>\n",
       "      <th>2016-04</th>\n",
       "      <td>2792</td>\n",
       "    </tr>\n",
       "    <tr>\n",
       "      <th>2016-05</th>\n",
       "      <td>2810</td>\n",
       "    </tr>\n",
       "  </tbody>\n",
       "</table>\n",
       "</div>"
      ],
      "text/plain": [
       "           Delito\n",
       "Mes y año        \n",
       "2016-01      2441\n",
       "2016-02      2536\n",
       "2016-03      2681\n",
       "2016-04      2792\n",
       "2016-05      2810"
      ]
     },
     "execution_count": 75,
     "metadata": {},
     "output_type": "execute_result"
    }
   ],
   "source": [
    "cuenta = timedf.count(level=\"Mes y año\")#cuántos datos /de cualquier columna/ hay por cada valor de \"Mes y año\"\n",
    "cuenta.head()"
   ]
  },
  {
   "cell_type": "code",
   "execution_count": 76,
   "metadata": {},
   "outputs": [
    {
     "data": {
      "text/plain": [
       "<matplotlib.axes._subplots.AxesSubplot at 0x1de32b9a208>"
      ]
     },
     "execution_count": 76,
     "metadata": {},
     "output_type": "execute_result"
    },
    {
     "data": {
      "image/png": "[encoded data removed]",
      "text/plain": [
       "<matplotlib.figure.Figure at 0x1de327d0cf8>"
      ]
     },
     "metadata": {},
     "output_type": "display_data"
    }
   ],
   "source": [
    "cuenta.plot()"
   ]
  },
  {
   "cell_type": "markdown",
   "metadata": {},
   "source": [
    "Arriba, gráfica que muestra la cantidad TOTAL de delitos en la alcaldía Cuauhtémoc, mes a mes"
   ]
  },
  {
   "cell_type": "markdown",
   "metadata": {},
   "source": [
    "Elección del modelo\n",
    "    #Serie de tiempo ¿AR, ARMA, ARIMA, SARIMA? Elegir de acuerdo con la forma de los datos\n",
    "    #Agrupamiento por k-means. A partir de qué característica se agruparán."
   ]
  },
  {
   "cell_type": "markdown",
   "metadata": {},
   "source": [
    "Entrenamiento y evaluación del modelo\n",
    "    #Seleccionar parámetros iniciales (p, q, d, etc). Justificar esta selección.\n",
    "    #Seleccionar número de clusters. Justificar esta selección.\n",
    "    #Evaluar el modelo (score, accuracy, etc)."
   ]
  },
  {
   "cell_type": "markdown",
   "metadata": {},
   "source": [
    "<b>Resultados<b>"
   ]
  },
  {
   "cell_type": "markdown",
   "metadata": {},
   "source": [
    "Observaciones\n",
    "    #Tendencia secular\n",
    "    #Variación estacional\n",
    "    #Variación cíclica\n",
    "    #Variación irregular\n",
    "    #¿Se detectó algún patrón?"
   ]
  },
  {
   "cell_type": "markdown",
   "metadata": {},
   "source": [
    "Inferencia\n",
    "    #predecir para responder a los objetivos"
   ]
  }
 ],
 "metadata": {
  "kernelspec": {
   "display_name": "Python 3",
   "language": "python",
   "name": "python3"
  },
  "language_info": {
   "codemirror_mode": {
    "name": "ipython",
    "version": 3
   },
   "file_extension": ".py",
   "mimetype": "text/x-python",
   "name": "python",
   "nbconvert_exporter": "python",
   "pygments_lexer": "ipython3",
   "version": "3.6.2"
  }
 },
 "nbformat": 4,
 "nbformat_minor": 2
}
