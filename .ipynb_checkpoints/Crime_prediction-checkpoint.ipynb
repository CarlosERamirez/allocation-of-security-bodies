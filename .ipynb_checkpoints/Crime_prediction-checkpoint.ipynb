{
 "cells": [
  {
   "cell_type": "markdown",
   "metadata": {},
   "source": [
    "<b>Objetivos</b>\n",
    "<ol>\n",
    "    <li>Distribuir 10,000 policías a pie y 1000 patrullas</li>\n",
    "    <li>Predecir criminalidad: encontrar la colonia con la mayor probabilidad de, en el año 2025, ser la más peligrosa por delitos graves</li>\n",
    "    <li>Proponer un mecanismo para evaluar la estrategia de distribución de los policías a pie y patrullas</li>\n",
    "    <li>Recomendar una colonia para instalar una sucursal de una empresa, basándose en los datos</li>\n",
    "</ol>"
   ]
  },
  {
   "cell_type": "markdown",
   "metadata": {},
   "source": [
    "<b>Preparación de datos</b>\n",
    "#Los siguientes pasos se irán borrando de esta celda conforme los completo en el notebook:\n",
    "    #Separación\n",
    "        #Conjuntos de entrenamiento, evaluación, prueba (si acaso aplica)\n",
    "    #Extracción de características\n",
    "        #Seleccionar características que influyen en el resultado"
   ]
  },
  {
   "cell_type": "markdown",
   "metadata": {},
   "source": [
    "<p>LIMPIEZA</p>\n",
    "<li>Información extraviada</li>\n",
    "<li>Homologar formato</li>\n",
    "<li>Eliminar ruido: valores alejados, outliers</li>"
   ]
  },
  {
   "cell_type": "code",
   "execution_count": 1,
   "metadata": {},
   "outputs": [],
   "source": [
    "import pandas as pd\n",
    "datos = pd.read_csv(\"../carpetas-de-investigacion-pgj-de-la-ciudad-de-mexico.csv\", nrows = 70000000,sep=';')"
   ]
  },
  {
   "cell_type": "code",
   "execution_count": 2,
   "metadata": {},
   "outputs": [
    {
     "data": {
      "text/plain": [
       "pandas.core.frame.DataFrame"
      ]
     },
     "execution_count": 2,
     "metadata": {},
     "output_type": "execute_result"
    }
   ],
   "source": [
    "type(datos)\n",
    "#Es un DATAFRAME de Pandas"
   ]
  },
  {
   "cell_type": "code",
   "execution_count": 3,
   "metadata": {},
   "outputs": [
    {
     "data": {
      "text/plain": [
       "Index(['ao_hechos', 'mes_hechos', 'fecha_hechos', 'delito', 'categoria_delito',\n",
       "       'fiscalia', 'agencia', 'unidad_investigacion', 'alcaldia_hechos',\n",
       "       'colonia_hechos', 'ao_inicio', 'mes_inicio', 'fecha_inicio',\n",
       "       'calle_hechos', 'calle_hechos2', 'longitud', 'latitud', 'geopoint'],\n",
       "      dtype='object')"
      ]
     },
     "execution_count": 3,
     "metadata": {},
     "output_type": "execute_result"
    }
   ],
   "source": [
    "#datos.info()\n",
    "datos.columns"
   ]
  },
  {
   "cell_type": "markdown",
   "metadata": {},
   "source": [
    "<p>Crear dataframe con las siguientes columnas</p>\n",
    "<ul>\n",
    "    <li>fechas_hechos</li>\n",
    "    <li>delito</li>\n",
    "    <li>categoria_delito</li>\n",
    "    <li>alcaldia_hechos</li>\n",
    "    <li>geopoint</li>\n",
    "</ul>"
   ]
  },
  {
   "cell_type": "code",
   "execution_count": 4,
   "metadata": {},
   "outputs": [],
   "source": [
    "#NUEVO DATAFRAME ELIMINANDO COLUMNAS\n",
    "#newDatos = datos.drop([\"ao_hechos\", \"mes_hechos\", \"fiscalia\", \"agencia\", \"unidad_investigacion\", \"colonia_hechos\", \"ao_inicio\", \"mes_inicio\", \"fecha_inicio\", \"calle_hechos\", \"calle_hechos2\"], axis = 1)\n",
    "#alternatively, I could use inplace = True to alter datos instead of\n",
    "#reassigning to newDatos\n",
    "\n",
    "#NUEVO DATAFRAME SELECCIONANDO COLUMNAS\n",
    "#dropna to eliminate incomplete data\n",
    "newDatos = datos[[\"fecha_hechos\", \"delito\", \"categoria_delito\", \"alcaldia_hechos\", \"geopoint\"]].dropna()"
   ]
  },
  {
   "cell_type": "code",
   "execution_count": 5,
   "metadata": {},
   "outputs": [
    {
     "data": {
      "text/html": [
       "<div>\n",
       "<style scoped>\n",
       "    .dataframe tbody tr th:only-of-type {\n",
       "        vertical-align: middle;\n",
       "    }\n",
       "\n",
       "    .dataframe tbody tr th {\n",
       "        vertical-align: top;\n",
       "    }\n",
       "\n",
       "    .dataframe thead th {\n",
       "        text-align: right;\n",
       "    }\n",
       "</style>\n",
       "<table border=\"1\" class=\"dataframe\">\n",
       "  <thead>\n",
       "    <tr style=\"text-align: right;\">\n",
       "      <th></th>\n",
       "      <th>fecha_hechos</th>\n",
       "      <th>delito</th>\n",
       "      <th>categoria_delito</th>\n",
       "      <th>alcaldia_hechos</th>\n",
       "      <th>geopoint</th>\n",
       "    </tr>\n",
       "  </thead>\n",
       "  <tbody>\n",
       "    <tr>\n",
       "      <th>0</th>\n",
       "      <td>2016-12-31 22:11:00</td>\n",
       "      <td>HOMICIDIO CULPOSO POR TRÁNSITO VEHICULAR (ATRO...</td>\n",
       "      <td>DELITO DE BAJO IMPACTO</td>\n",
       "      <td>TLAHUAC</td>\n",
       "      <td>19.3020842299,-99.0535354187</td>\n",
       "    </tr>\n",
       "    <tr>\n",
       "      <th>1</th>\n",
       "      <td>2016-12-31 19:55:00</td>\n",
       "      <td>ROBO DE VEHICULO DE SERVICIO PARTICULAR CON VI...</td>\n",
       "      <td>ROBO DE VEHÍCULO CON Y SIN VIOLENCIA</td>\n",
       "      <td>IZTAPALAPA</td>\n",
       "      <td>19.3630615318,-99.1285499097</td>\n",
       "    </tr>\n",
       "    <tr>\n",
       "      <th>2</th>\n",
       "      <td>2017-01-01 01:15:00</td>\n",
       "      <td>LESIONES INTENCIONALES POR ARMA BLANCA</td>\n",
       "      <td>DELITO DE BAJO IMPACTO</td>\n",
       "      <td>CUAUHTEMOC</td>\n",
       "      <td>19.4271484491,-99.1254284961</td>\n",
       "    </tr>\n",
       "    <tr>\n",
       "      <th>3</th>\n",
       "      <td>2017-01-01 00:00:00</td>\n",
       "      <td>LESIONES CULPOSAS</td>\n",
       "      <td>DELITO DE BAJO IMPACTO</td>\n",
       "      <td>CUAUHTEMOC</td>\n",
       "      <td>19.410850532,-99.1442862319</td>\n",
       "    </tr>\n",
       "    <tr>\n",
       "      <th>4</th>\n",
       "      <td>2011-08-17 12:00:00</td>\n",
       "      <td>FRAUDE</td>\n",
       "      <td>DELITO DE BAJO IMPACTO</td>\n",
       "      <td>CUAUHTEMOC</td>\n",
       "      <td>19.4210705569,-99.1501195725</td>\n",
       "    </tr>\n",
       "  </tbody>\n",
       "</table>\n",
       "</div>"
      ],
      "text/plain": [
       "          fecha_hechos                                             delito  \\\n",
       "0  2016-12-31 22:11:00  HOMICIDIO CULPOSO POR TRÁNSITO VEHICULAR (ATRO...   \n",
       "1  2016-12-31 19:55:00  ROBO DE VEHICULO DE SERVICIO PARTICULAR CON VI...   \n",
       "2  2017-01-01 01:15:00             LESIONES INTENCIONALES POR ARMA BLANCA   \n",
       "3  2017-01-01 00:00:00                                  LESIONES CULPOSAS   \n",
       "4  2011-08-17 12:00:00                                             FRAUDE   \n",
       "\n",
       "                       categoria_delito alcaldia_hechos  \\\n",
       "0                DELITO DE BAJO IMPACTO         TLAHUAC   \n",
       "1  ROBO DE VEHÍCULO CON Y SIN VIOLENCIA      IZTAPALAPA   \n",
       "2                DELITO DE BAJO IMPACTO      CUAUHTEMOC   \n",
       "3                DELITO DE BAJO IMPACTO      CUAUHTEMOC   \n",
       "4                DELITO DE BAJO IMPACTO      CUAUHTEMOC   \n",
       "\n",
       "                       geopoint  \n",
       "0  19.3020842299,-99.0535354187  \n",
       "1  19.3630615318,-99.1285499097  \n",
       "2  19.4271484491,-99.1254284961  \n",
       "3   19.410850532,-99.1442862319  \n",
       "4  19.4210705569,-99.1501195725  "
      ]
     },
     "execution_count": 5,
     "metadata": {},
     "output_type": "execute_result"
    }
   ],
   "source": [
    "newDatos.head()"
   ]
  },
  {
   "cell_type": "code",
   "execution_count": 6,
   "metadata": {
    "scrolled": true
   },
   "outputs": [
    {
     "data": {
      "text/plain": [
       "DELITO DE BAJO IMPACTO                                     644562\n",
       "ROBO A TRANSEUNTE EN VÍA PÚBLICA CON Y SIN VIOLENCIA        51169\n",
       "ROBO DE VEHÍCULO CON Y SIN VIOLENCIA                        46789\n",
       "HECHO NO DELICTIVO                                          44378\n",
       "ROBO A NEGOCIO CON VIOLENCIA                                14386\n",
       "ROBO A PASAJERO A BORDO DEL METRO CON Y SIN VIOLENCIA        9567\n",
       "ROBO A REPARTIDOR CON Y SIN VIOLENCIA                        8251\n",
       "HOMICIDIO DOLOSO                                             4230\n",
       "LESIONES DOLOSAS POR DISPARO DE ARMA DE FUEGO                3248\n",
       "ROBO A PASAJERO A BORDO DE MICROBUS CON Y SIN VIOLENCIA      3186\n",
       "VIOLACIÓN                                                    2690\n",
       "ROBO A CASA HABITACIÓN CON VIOLENCIA                         2053\n",
       "ROBO A CUENTAHABIENTE SALIENDO DEL CAJERO CON VIOLENCIA      1616\n",
       "ROBO A PASAJERO A BORDO DE TAXI CON VIOLENCIA                 833\n",
       "ROBO A TRANSPORTISTA CON Y SIN VIOLENCIA                      450\n",
       "SECUESTRO                                                     135\n",
       "Name: categoria_delito, dtype: int64"
      ]
     },
     "execution_count": 6,
     "metadata": {},
     "output_type": "execute_result"
    }
   ],
   "source": [
    "#encontrar las diferentes categorias de delito y la cantidad cometida de éstos\n",
    "newDatos[\"categoria_delito\"].value_counts()"
   ]
  },
  {
   "cell_type": "code",
   "execution_count": 7,
   "metadata": {},
   "outputs": [
    {
     "data": {
      "text/plain": [
       "DELITO DE BAJO IMPACTO                                     644562\n",
       "ROBO A TRANSEUNTE EN VÍA PÚBLICA CON Y SIN VIOLENCIA        51169\n",
       "ROBO DE VEHÍCULO CON Y SIN VIOLENCIA                        46789\n",
       "HECHO NO DELICTIVO                                          44378\n",
       "ROBO A NEGOCIO CON VIOLENCIA                                14386\n",
       "ROBO A PASAJERO                                             13586\n",
       "ROBO A REPARTIDOR CON Y SIN VIOLENCIA                        8251\n",
       "HOMICIDIO DOLOSO                                             4230\n",
       "LESIONES DOLOSAS POR DISPARO DE ARMA DE FUEGO                3248\n",
       "VIOLACIÓN                                                    2690\n",
       "ROBO A CASA HABITACIÓN CON VIOLENCIA                         2053\n",
       "ROBO A CUENTAHABIENTE SALIENDO DEL CAJERO CON VIOLENCIA      1616\n",
       "ROBO A TRANSPORTISTA CON Y SIN VIOLENCIA                      450\n",
       "SECUESTRO                                                     135\n",
       "Name: categoria_delito, dtype: int64"
      ]
     },
     "execution_count": 7,
     "metadata": {},
     "output_type": "execute_result"
    }
   ],
   "source": [
    "#De las categorías anteriores:\n",
    "#reagrupar categorías similares para disminuir las categorías.\n",
    "#Renombrarlas: \"ROBO A PASAJERO\"\n",
    "newDatos.replace({\"categoria_delito\": {\"ROBO A PASAJERO A BORDO DEL METRO CON Y SIN VIOLENCIA\": \"ROBO A PASAJERO\", \"ROBO A PASAJERO A BORDO DE MICROBUS CON Y SIN VIOLENCIA\": \"ROBO A PASAJERO\", \"ROBO A PASAJERO A BORDO DE TAXI CON VIOLENCIA\": \"ROBO A PASAJERO\"}}, inplace = True)\n",
    "newDatos[\"categoria_delito\"].value_counts()"
   ]
  },
  {
   "cell_type": "code",
   "execution_count": 8,
   "metadata": {},
   "outputs": [
    {
     "data": {
      "text/plain": [
       "DELITO DE BAJO IMPACTO                                     644562\n",
       "ROBO A TRANSEUNTE EN VÍA PÚBLICA CON Y SIN VIOLENCIA        51169\n",
       "ROBO DE VEHÍCULO CON Y SIN VIOLENCIA                        46789\n",
       "ROBO A NEGOCIO CON VIOLENCIA                                14386\n",
       "ROBO A PASAJERO                                             13586\n",
       "ROBO A REPARTIDOR CON Y SIN VIOLENCIA                        8251\n",
       "HOMICIDIO DOLOSO                                             4230\n",
       "LESIONES DOLOSAS POR DISPARO DE ARMA DE FUEGO                3248\n",
       "VIOLACIÓN                                                    2690\n",
       "ROBO A CASA HABITACIÓN CON VIOLENCIA                         2053\n",
       "ROBO A CUENTAHABIENTE SALIENDO DEL CAJERO CON VIOLENCIA      1616\n",
       "ROBO A TRANSPORTISTA CON Y SIN VIOLENCIA                      450\n",
       "SECUESTRO                                                     135\n",
       "Name: categoria_delito, dtype: int64"
      ]
     },
     "execution_count": 8,
     "metadata": {},
     "output_type": "execute_result"
    }
   ],
   "source": [
    "#borrar filas con  HECHO NO DELICTIVO\n",
    "newDatos.drop(newDatos[newDatos[\"categoria_delito\"] == \"HECHO NO DELICTIVO\"].index, inplace=True)\n",
    "newDatos[\"categoria_delito\"].value_counts()"
   ]
  },
  {
   "cell_type": "code",
   "execution_count": 14,
   "metadata": {},
   "outputs": [
    {
     "data": {
      "text/plain": [
       "CUAUHTEMOC                126681\n",
       "IZTAPALAPA                118194\n",
       "GUSTAVO A MADERO           78926\n",
       "BENITO JUAREZ              70932\n",
       "MIGUEL HIDALGO             54277\n",
       "COYOACAN                   54078\n",
       "ALVARO OBREGON             52792\n",
       "TLALPAN                    46546\n",
       "VENUSTIANO CARRANZA        44312\n",
       "AZCAPOTZALCO               40097\n",
       "IZTACALCO                  34320\n",
       "XOCHIMILCO                 24964\n",
       "TLAHUAC                    18063\n",
       "LA MAGDALENA CONTRERAS     12199\n",
       "CUAJIMALPA DE MORELOS      11604\n",
       "MILPA ALTA                  5178\n",
       "NAUCALPAN DE JUAREZ            1\n",
       "CHALCO                         1\n",
       "Name: alcaldia_hechos, dtype: int64"
      ]
     },
     "execution_count": 14,
     "metadata": {},
     "output_type": "execute_result"
    }
   ],
   "source": [
    "#Del dataframe, eliminar los datos cuya alcaldía no esté en la CDMX\n",
    "newDatos[\"alcaldia_hechos\"].value_counts()"
   ]
  },
  {
   "cell_type": "code",
   "execution_count": 19,
   "metadata": {
    "scrolled": true
   },
   "outputs": [
    {
     "data": {
      "text/plain": [
       "CUAUHTEMOC                126681\n",
       "IZTAPALAPA                118194\n",
       "GUSTAVO A MADERO           78926\n",
       "BENITO JUAREZ              70932\n",
       "MIGUEL HIDALGO             54277\n",
       "COYOACAN                   54078\n",
       "ALVARO OBREGON             52792\n",
       "TLALPAN                    46546\n",
       "VENUSTIANO CARRANZA        44312\n",
       "AZCAPOTZALCO               40097\n",
       "IZTACALCO                  34320\n",
       "XOCHIMILCO                 24964\n",
       "TLAHUAC                    18063\n",
       "LA MAGDALENA CONTRERAS     12199\n",
       "CUAJIMALPA DE MORELOS      11604\n",
       "MILPA ALTA                  5178\n",
       "Name: alcaldia_hechos, dtype: int64"
      ]
     },
     "execution_count": 19,
     "metadata": {},
     "output_type": "execute_result"
    }
   ],
   "source": [
    "newDatos.drop(newDatos[(newDatos[\"alcaldia_hechos\"]==\"NAUCALPAN DE JUAREZ\") | (newDatos[\"alcaldia_hechos\"]==\"CHALCO\")].index, inplace = True)\n",
    "newDatos[\"alcaldia_hechos\"].value_counts()"
   ]
  },
  {
   "cell_type": "code",
   "execution_count": null,
   "metadata": {},
   "outputs": [],
   "source": []
  },
  {
   "cell_type": "code",
   "execution_count": 43,
   "metadata": {
    "scrolled": true
   },
   "outputs": [
    {
     "data": {
      "text/plain": [
       "DELITO DE BAJO IMPACTO                                     44224\n",
       "ROBO DE VEHÍCULO CON Y SIN VIOLENCIA                        2997\n",
       "HECHO NO DELICTIVO                                          2957\n",
       "ROBO A TRANSEUNTE EN VÍA PÚBLICA CON Y SIN VIOLENCIA        2640\n",
       "ROBO A NEGOCIO CON VIOLENCIA                                1112\n",
       "ROBO A REPARTIDOR CON Y SIN VIOLENCIA                        542\n",
       "HOMICIDIO DOLOSO                                             326\n",
       "LESIONES DOLOSAS POR DISPARO DE ARMA DE FUEGO                225\n",
       "VIOLACIÓN                                                    211\n",
       "ROBO A CASA HABITACIÓN CON VIOLENCIA                         171\n",
       "ROBO A PASAJERO A BORDO DEL METRO CON Y SIN VIOLENCIA         93\n",
       "ROBO A PASAJERO A BORDO DE MICROBUS CON Y SIN VIOLENCIA       88\n",
       "ROBO A CUENTAHABIENTE SALIENDO DEL CAJERO CON VIOLENCIA       82\n",
       "ROBO A PASAJERO A BORDO DE TAXI CON VIOLENCIA                 72\n",
       "SECUESTRO                                                      6\n",
       "ROBO A TRANSPORTISTA CON Y SIN VIOLENCIA                       3\n",
       "Name: categoria_delito, dtype: int64"
      ]
     },
     "execution_count": 43,
     "metadata": {},
     "output_type": "execute_result"
    }
   ],
   "source": [
    "#cuántos delitos de cada tipo hay en esa delegación\n",
    "datosAlvaro[\"categoria_delito\"].value_counts()"
   ]
  },
  {
   "cell_type": "code",
   "execution_count": 44,
   "metadata": {},
   "outputs": [
    {
     "data": {
      "text/html": [
       "<div>\n",
       "<style scoped>\n",
       "    .dataframe tbody tr th:only-of-type {\n",
       "        vertical-align: middle;\n",
       "    }\n",
       "\n",
       "    .dataframe tbody tr th {\n",
       "        vertical-align: top;\n",
       "    }\n",
       "\n",
       "    .dataframe thead th {\n",
       "        text-align: right;\n",
       "    }\n",
       "</style>\n",
       "<table border=\"1\" class=\"dataframe\">\n",
       "  <thead>\n",
       "    <tr style=\"text-align: right;\">\n",
       "      <th></th>\n",
       "      <th>fecha_hechos</th>\n",
       "      <th>delito</th>\n",
       "      <th>alcaldia_hechos</th>\n",
       "      <th>latitud</th>\n",
       "      <th>longitud</th>\n",
       "      <th>geopoint</th>\n",
       "    </tr>\n",
       "    <tr>\n",
       "      <th>categoria_delito</th>\n",
       "      <th></th>\n",
       "      <th></th>\n",
       "      <th></th>\n",
       "      <th></th>\n",
       "      <th></th>\n",
       "      <th></th>\n",
       "    </tr>\n",
       "  </thead>\n",
       "  <tbody>\n",
       "    <tr>\n",
       "      <th>DELITO DE BAJO IMPACTO</th>\n",
       "      <td>644562</td>\n",
       "      <td>644562</td>\n",
       "      <td>644562</td>\n",
       "      <td>644562</td>\n",
       "      <td>644562</td>\n",
       "      <td>644562</td>\n",
       "    </tr>\n",
       "    <tr>\n",
       "      <th>HECHO NO DELICTIVO</th>\n",
       "      <td>44378</td>\n",
       "      <td>44378</td>\n",
       "      <td>44378</td>\n",
       "      <td>44378</td>\n",
       "      <td>44378</td>\n",
       "      <td>44378</td>\n",
       "    </tr>\n",
       "    <tr>\n",
       "      <th>HOMICIDIO DOLOSO</th>\n",
       "      <td>4230</td>\n",
       "      <td>4230</td>\n",
       "      <td>4230</td>\n",
       "      <td>4230</td>\n",
       "      <td>4230</td>\n",
       "      <td>4230</td>\n",
       "    </tr>\n",
       "    <tr>\n",
       "      <th>LESIONES DOLOSAS POR DISPARO DE ARMA DE FUEGO</th>\n",
       "      <td>3248</td>\n",
       "      <td>3248</td>\n",
       "      <td>3248</td>\n",
       "      <td>3248</td>\n",
       "      <td>3248</td>\n",
       "      <td>3248</td>\n",
       "    </tr>\n",
       "    <tr>\n",
       "      <th>ROBO A CASA HABITACIÓN CON VIOLENCIA</th>\n",
       "      <td>2053</td>\n",
       "      <td>2053</td>\n",
       "      <td>2053</td>\n",
       "      <td>2053</td>\n",
       "      <td>2053</td>\n",
       "      <td>2053</td>\n",
       "    </tr>\n",
       "    <tr>\n",
       "      <th>ROBO A CUENTAHABIENTE SALIENDO DEL CAJERO CON VIOLENCIA</th>\n",
       "      <td>1616</td>\n",
       "      <td>1616</td>\n",
       "      <td>1616</td>\n",
       "      <td>1616</td>\n",
       "      <td>1616</td>\n",
       "      <td>1616</td>\n",
       "    </tr>\n",
       "    <tr>\n",
       "      <th>ROBO A NEGOCIO CON VIOLENCIA</th>\n",
       "      <td>14386</td>\n",
       "      <td>14386</td>\n",
       "      <td>14386</td>\n",
       "      <td>14386</td>\n",
       "      <td>14386</td>\n",
       "      <td>14386</td>\n",
       "    </tr>\n",
       "    <tr>\n",
       "      <th>ROBO A PASAJERO A BORDO DE MICROBUS CON Y SIN VIOLENCIA</th>\n",
       "      <td>3186</td>\n",
       "      <td>3186</td>\n",
       "      <td>3186</td>\n",
       "      <td>3186</td>\n",
       "      <td>3186</td>\n",
       "      <td>3186</td>\n",
       "    </tr>\n",
       "    <tr>\n",
       "      <th>ROBO A PASAJERO A BORDO DE TAXI CON VIOLENCIA</th>\n",
       "      <td>833</td>\n",
       "      <td>833</td>\n",
       "      <td>833</td>\n",
       "      <td>833</td>\n",
       "      <td>833</td>\n",
       "      <td>833</td>\n",
       "    </tr>\n",
       "    <tr>\n",
       "      <th>ROBO A PASAJERO A BORDO DEL METRO CON Y SIN VIOLENCIA</th>\n",
       "      <td>9567</td>\n",
       "      <td>9567</td>\n",
       "      <td>9567</td>\n",
       "      <td>9567</td>\n",
       "      <td>9567</td>\n",
       "      <td>9567</td>\n",
       "    </tr>\n",
       "    <tr>\n",
       "      <th>ROBO A REPARTIDOR CON Y SIN VIOLENCIA</th>\n",
       "      <td>8251</td>\n",
       "      <td>8251</td>\n",
       "      <td>8251</td>\n",
       "      <td>8251</td>\n",
       "      <td>8251</td>\n",
       "      <td>8251</td>\n",
       "    </tr>\n",
       "    <tr>\n",
       "      <th>ROBO A TRANSEUNTE EN VÍA PÚBLICA CON Y SIN VIOLENCIA</th>\n",
       "      <td>51169</td>\n",
       "      <td>51169</td>\n",
       "      <td>51169</td>\n",
       "      <td>51169</td>\n",
       "      <td>51169</td>\n",
       "      <td>51169</td>\n",
       "    </tr>\n",
       "    <tr>\n",
       "      <th>ROBO A TRANSPORTISTA CON Y SIN VIOLENCIA</th>\n",
       "      <td>450</td>\n",
       "      <td>450</td>\n",
       "      <td>450</td>\n",
       "      <td>450</td>\n",
       "      <td>450</td>\n",
       "      <td>450</td>\n",
       "    </tr>\n",
       "    <tr>\n",
       "      <th>ROBO DE VEHÍCULO CON Y SIN VIOLENCIA</th>\n",
       "      <td>46789</td>\n",
       "      <td>46789</td>\n",
       "      <td>46789</td>\n",
       "      <td>46789</td>\n",
       "      <td>46789</td>\n",
       "      <td>46789</td>\n",
       "    </tr>\n",
       "    <tr>\n",
       "      <th>SECUESTRO</th>\n",
       "      <td>135</td>\n",
       "      <td>135</td>\n",
       "      <td>135</td>\n",
       "      <td>135</td>\n",
       "      <td>135</td>\n",
       "      <td>135</td>\n",
       "    </tr>\n",
       "    <tr>\n",
       "      <th>VIOLACIÓN</th>\n",
       "      <td>2690</td>\n",
       "      <td>2690</td>\n",
       "      <td>2690</td>\n",
       "      <td>2690</td>\n",
       "      <td>2690</td>\n",
       "      <td>2690</td>\n",
       "    </tr>\n",
       "  </tbody>\n",
       "</table>\n",
       "</div>"
      ],
      "text/plain": [
       "                                                    fecha_hechos  delito  \\\n",
       "categoria_delito                                                           \n",
       "DELITO DE BAJO IMPACTO                                    644562  644562   \n",
       "HECHO NO DELICTIVO                                         44378   44378   \n",
       "HOMICIDIO DOLOSO                                            4230    4230   \n",
       "LESIONES DOLOSAS POR DISPARO DE ARMA DE FUEGO               3248    3248   \n",
       "ROBO A CASA HABITACIÓN CON VIOLENCIA                        2053    2053   \n",
       "ROBO A CUENTAHABIENTE SALIENDO DEL CAJERO CON V...          1616    1616   \n",
       "ROBO A NEGOCIO CON VIOLENCIA                               14386   14386   \n",
       "ROBO A PASAJERO A BORDO DE MICROBUS CON Y SIN V...          3186    3186   \n",
       "ROBO A PASAJERO A BORDO DE TAXI CON VIOLENCIA                833     833   \n",
       "ROBO A PASAJERO A BORDO DEL METRO CON Y SIN VIO...          9567    9567   \n",
       "ROBO A REPARTIDOR CON Y SIN VIOLENCIA                       8251    8251   \n",
       "ROBO A TRANSEUNTE EN VÍA PÚBLICA CON Y SIN VIOL...         51169   51169   \n",
       "ROBO A TRANSPORTISTA CON Y SIN VIOLENCIA                     450     450   \n",
       "ROBO DE VEHÍCULO CON Y SIN VIOLENCIA                       46789   46789   \n",
       "SECUESTRO                                                    135     135   \n",
       "VIOLACIÓN                                                   2690    2690   \n",
       "\n",
       "                                                    alcaldia_hechos  latitud  \\\n",
       "categoria_delito                                                               \n",
       "DELITO DE BAJO IMPACTO                                       644562   644562   \n",
       "HECHO NO DELICTIVO                                            44378    44378   \n",
       "HOMICIDIO DOLOSO                                               4230     4230   \n",
       "LESIONES DOLOSAS POR DISPARO DE ARMA DE FUEGO                  3248     3248   \n",
       "ROBO A CASA HABITACIÓN CON VIOLENCIA                           2053     2053   \n",
       "ROBO A CUENTAHABIENTE SALIENDO DEL CAJERO CON V...             1616     1616   \n",
       "ROBO A NEGOCIO CON VIOLENCIA                                  14386    14386   \n",
       "ROBO A PASAJERO A BORDO DE MICROBUS CON Y SIN V...             3186     3186   \n",
       "ROBO A PASAJERO A BORDO DE TAXI CON VIOLENCIA                   833      833   \n",
       "ROBO A PASAJERO A BORDO DEL METRO CON Y SIN VIO...             9567     9567   \n",
       "ROBO A REPARTIDOR CON Y SIN VIOLENCIA                          8251     8251   \n",
       "ROBO A TRANSEUNTE EN VÍA PÚBLICA CON Y SIN VIOL...            51169    51169   \n",
       "ROBO A TRANSPORTISTA CON Y SIN VIOLENCIA                        450      450   \n",
       "ROBO DE VEHÍCULO CON Y SIN VIOLENCIA                          46789    46789   \n",
       "SECUESTRO                                                       135      135   \n",
       "VIOLACIÓN                                                      2690     2690   \n",
       "\n",
       "                                                    longitud  geopoint  \n",
       "categoria_delito                                                        \n",
       "DELITO DE BAJO IMPACTO                                644562    644562  \n",
       "HECHO NO DELICTIVO                                     44378     44378  \n",
       "HOMICIDIO DOLOSO                                        4230      4230  \n",
       "LESIONES DOLOSAS POR DISPARO DE ARMA DE FUEGO           3248      3248  \n",
       "ROBO A CASA HABITACIÓN CON VIOLENCIA                    2053      2053  \n",
       "ROBO A CUENTAHABIENTE SALIENDO DEL CAJERO CON V...      1616      1616  \n",
       "ROBO A NEGOCIO CON VIOLENCIA                           14386     14386  \n",
       "ROBO A PASAJERO A BORDO DE MICROBUS CON Y SIN V...      3186      3186  \n",
       "ROBO A PASAJERO A BORDO DE TAXI CON VIOLENCIA            833       833  \n",
       "ROBO A PASAJERO A BORDO DEL METRO CON Y SIN VIO...      9567      9567  \n",
       "ROBO A REPARTIDOR CON Y SIN VIOLENCIA                   8251      8251  \n",
       "ROBO A TRANSEUNTE EN VÍA PÚBLICA CON Y SIN VIOL...     51169     51169  \n",
       "ROBO A TRANSPORTISTA CON Y SIN VIOLENCIA                 450       450  \n",
       "ROBO DE VEHÍCULO CON Y SIN VIOLENCIA                   46789     46789  \n",
       "SECUESTRO                                                135       135  \n",
       "VIOLACIÓN                                               2690      2690  "
      ]
     },
     "execution_count": 44,
     "metadata": {},
     "output_type": "execute_result"
    }
   ],
   "source": [
    "#total de delitos en esa delegación\n",
    "#datosAlvaro[\"delito\"].count()\n",
    "newDatos.groupby(by = \"categoria_delito\").count()"
   ]
  },
  {
   "cell_type": "code",
   "execution_count": null,
   "metadata": {},
   "outputs": [],
   "source": []
  },
  {
   "cell_type": "code",
   "execution_count": 26,
   "metadata": {},
   "outputs": [],
   "source": [
    "#Delegación con mayor incidencia de delitos\n",
    "#datosCuau.head(5)"
   ]
  },
  {
   "cell_type": "code",
   "execution_count": 27,
   "metadata": {},
   "outputs": [],
   "source": [
    "#datosCuau[\"fecha_hechos\"].value_counts()\n",
    "#01/2019 es un formato distinto"
   ]
  },
  {
   "cell_type": "code",
   "execution_count": null,
   "metadata": {},
   "outputs": [],
   "source": [
    "#Cambiar formato de fecha\n",
    "datosCuau.loc[datosCuau[\"Mes y año\"] == \"01/2019\", 'Mes y año'] = \"2019-01\""
   ]
  },
  {
   "cell_type": "code",
   "execution_count": null,
   "metadata": {},
   "outputs": [],
   "source": [
    "#dataframe con formato de fecha homologado\n",
    "datosCuau[\"Mes y año\"].dropna().value_counts()\n",
    "#datosCuau.dropna()"
   ]
  },
  {
   "cell_type": "code",
   "execution_count": null,
   "metadata": {},
   "outputs": [],
   "source": [
    "#import numpy as np\n",
    "import matplotlib.pyplot as plt\n",
    "%matplotlib inline\n",
    "timedf = datosCuau[[\"Mes y año\",\"Delito\",\"Geopoint\"]]\n",
    "#timedf = timedf.set_index([\"Mes y año\",\"Geopoint\"])#por qué necesito otra columna? /Geopoint/\n",
    "timedf.head()\n",
    "#cuenta = timedf.count(level=\"Mes y año\")#cuántos datos /de cualquier columna/ hay por cada valor de \"Mes y año\"\n",
    "#cuenta\n",
    "#timedf\n",
    "#timedf.plot()"
   ]
  },
  {
   "cell_type": "code",
   "execution_count": null,
   "metadata": {},
   "outputs": [],
   "source": [
    "#por qué necesito otra columna? /Geopoint, en este caso/\n",
    "#Si la omito, error: Can only count levels on hierarchical index.\n",
    "timedf = timedf.set_index([\"Mes y año\",\"Geopoint\"])\n",
    "timedf.head()"
   ]
  },
  {
   "cell_type": "code",
   "execution_count": null,
   "metadata": {},
   "outputs": [],
   "source": [
    "cuenta = timedf.count(level=\"Mes y año\")#cuántos datos /de cualquier columna/ hay por cada valor de \"Mes y año\"\n",
    "cuenta.head()"
   ]
  },
  {
   "cell_type": "code",
   "execution_count": null,
   "metadata": {},
   "outputs": [],
   "source": [
    "cuenta.plot()"
   ]
  },
  {
   "cell_type": "markdown",
   "metadata": {},
   "source": [
    "Arriba, gráfica que muestra la cantidad TOTAL de delitos en la alcaldía Cuauhtémoc, mes a mes"
   ]
  },
  {
   "cell_type": "markdown",
   "metadata": {},
   "source": [
    "Elección del modelo\n",
    "    #Serie de tiempo ¿AR, ARMA, ARIMA, SARIMA? Elegir de acuerdo con la forma de los datos\n",
    "    #Agrupamiento por k-means. A partir de qué característica se agruparán."
   ]
  },
  {
   "cell_type": "markdown",
   "metadata": {},
   "source": [
    "Entrenamiento y evaluación del modelo\n",
    "    #Seleccionar parámetros iniciales (p, q, d, etc). Justificar esta selección.\n",
    "    #Seleccionar número de clusters. Justificar esta selección.\n",
    "    #Evaluar el modelo (score, accuracy, etc)."
   ]
  },
  {
   "cell_type": "markdown",
   "metadata": {},
   "source": [
    "<b>Resultados<b>"
   ]
  },
  {
   "cell_type": "markdown",
   "metadata": {},
   "source": [
    "Observaciones\n",
    "    #Tendencia secular\n",
    "    #Variación estacional\n",
    "    #Variación cíclica\n",
    "    #Variación irregular\n",
    "    #¿Se detectó algún patrón?"
   ]
  },
  {
   "cell_type": "markdown",
   "metadata": {},
   "source": [
    "Inferencia\n",
    "    #predecir para responder a los objetivos"
   ]
  }
 ],
 "metadata": {
  "kernelspec": {
   "display_name": "Python 3",
   "language": "python",
   "name": "python3"
  },
  "language_info": {
   "codemirror_mode": {
    "name": "ipython",
    "version": 3
   },
   "file_extension": ".py",
   "mimetype": "text/x-python",
   "name": "python",
   "nbconvert_exporter": "python",
   "pygments_lexer": "ipython3",
   "version": "3.7.3"
  }
 },
 "nbformat": 4,
 "nbformat_minor": 2
}
